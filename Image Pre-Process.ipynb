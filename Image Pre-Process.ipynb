{
 "cells": [
  {
   "cell_type": "code",
   "execution_count": null,
   "id": "48008ca6",
   "metadata": {},
   "outputs": [],
   "source": [
    "import numpy as np\n",
    "import os\n",
    "from keras.preprocessing.image import load_img, img_to_array\n",
    "from keras.preprocessing import image\n",
    "import matplotlib.pyplot as plt\n",
    "import time\n",
    "import pandas as pd\n",
    "import warnings\n",
    "#pd.set_option('display.max_colwidth', None)"
   ]
  },
  {
   "cell_type": "code",
   "execution_count": null,
   "id": "54b37816",
   "metadata": {},
   "outputs": [],
   "source": [
    "'''\n",
    "Convert Image from each class to numpy.\n",
    "\n",
    "    Resize the image to 28x28 from the original 128x128 \n",
    "\n",
    "    Normalize through image data vals/255\n",
    "\n",
    "saved as data frame for future reference\n",
    "\n",
    "df.shape = (30k,786)\n",
    "\n",
    "784 cols for (28x28) pixel vals\n",
    "\n",
    "1 for image_file_name\n",
    "\n",
    "1 for image_class\n",
    "\n",
    "'''"
   ]
  },
  {
   "cell_type": "code",
   "execution_count": null,
   "id": "68af5d6f",
   "metadata": {},
   "outputs": [],
   "source": [
    "#change to name of your directories where images are saved\n",
    "\n",
    "label_directories = {\n",
    "    '0': r'.\\mp_one10k',\n",
    "    '1': r'.\\mp_three10k',\n",
    "    '2': r'.\\mp_four10k'\n",
    "}"
   ]
  },
  {
   "cell_type": "code",
   "execution_count": null,
   "id": "ac27c8c6",
   "metadata": {},
   "outputs": [],
   "source": [
    "num_images_per_class = 10000\n",
    "num_classes = 3\n",
    "image_size = 784 \n",
    "\n",
    "data = np.empty((num_images_per_class * num_classes, image_size + 2), dtype=object)\n",
    "\n",
    "start_time = time.time()\n",
    "\n",
    "# go in each dir\n",
    "for class_idx, (label, path) in enumerate(label_directories.items()):\n",
    "    image_names = os.listdir(path)\n",
    "    \n",
    "    # go in each dir img\n",
    "    for image_idx, image_name in enumerate(image_names):\n",
    "        image_location = os.path.join(path, image_name)\n",
    "        \n",
    "        img = load_img(image_location, color_mode='grayscale', target_size=(28, 28))\n",
    "        \n",
    "        numpied_image = img_to_array(img)\n",
    "        numpied_image /= 255.0\n",
    "        \n",
    "        flattened_image = numpied_image.flatten()\n",
    "        \n",
    "        # Compute the row index in the data array for this image\n",
    "        row_idx = class_idx * num_images_per_class + image_idx\n",
    "        \n",
    "        # Store the img in the corresponding row\n",
    "        data[row_idx, 0] = image_name\n",
    "        data[row_idx, 1:-1] = flattened_image\n",
    "        data[row_idx, -1] = label\n",
    "\n",
    "end_time = time.time()\n",
    "elapsed_time = end_time - start_time\n",
    "print(\"Data loading, normalization, and flattening took {:.2f} seconds.\".format(elapsed_time))"
   ]
  },
  {
   "cell_type": "code",
   "execution_count": null,
   "id": "9a502d6a",
   "metadata": {},
   "outputs": [],
   "source": [
    "data.shape"
   ]
  },
  {
   "cell_type": "code",
   "execution_count": null,
   "id": "b59272a2",
   "metadata": {},
   "outputs": [],
   "source": [
    "df = pd.DataFrame(data, columns=['Image_Name'] + [f'Pixel_{i}' for i in range(1, image_size+1)] + ['Label'])"
   ]
  },
  {
   "cell_type": "code",
   "execution_count": null,
   "id": "639b6cfb",
   "metadata": {},
   "outputs": [],
   "source": [
    "df.head"
   ]
  },
  {
   "cell_type": "markdown",
   "id": "7af9e90a",
   "metadata": {},
   "source": [
    "## Save the Image"
   ]
  },
  {
   "cell_type": "code",
   "execution_count": null,
   "id": "9e618565",
   "metadata": {},
   "outputs": [],
   "source": [
    "df.to_csv('final_image_data.csv', index=False)"
   ]
  },
  {
   "cell_type": "markdown",
   "id": "7a02dc88",
   "metadata": {},
   "source": [
    "## Test"
   ]
  },
  {
   "cell_type": "code",
   "execution_count": null,
   "id": "097a6576",
   "metadata": {},
   "outputs": [],
   "source": [
    "#vals from the df are not numpy we transform\n",
    "pixels = df.iloc[:,1:-1].apply(pd.to_numeric, errors='coerce')\n",
    "\n",
    "pixels = pixels.values\n",
    "\n",
    "images = pixels.reshape(-1, 28, 28)\n",
    "\n",
    "for i in range(5):\n",
    "    plt.figure(figsize=(3, 3))  # Set plot size to 28x28\n",
    "    plt.imshow(images[i], cmap='gray')\n",
    "    plt.axis('off')\n",
    "    plt.show() \n"
   ]
  }
 ],
 "metadata": {
  "kernelspec": {
   "display_name": "Python 3 (ipykernel)",
   "language": "python",
   "name": "python3"
  },
  "language_info": {
   "codemirror_mode": {
    "name": "ipython",
    "version": 3
   },
   "file_extension": ".py",
   "mimetype": "text/x-python",
   "name": "python",
   "nbconvert_exporter": "python",
   "pygments_lexer": "ipython3",
   "version": "3.11.7"
  }
 },
 "nbformat": 4,
 "nbformat_minor": 5
}
